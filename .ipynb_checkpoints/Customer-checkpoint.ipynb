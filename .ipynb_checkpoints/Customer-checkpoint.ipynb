{
 "cells": [
  {
   "cell_type": "code",
   "execution_count": 1,
   "metadata": {},
   "outputs": [],
   "source": [
    "# import libraries\n",
    "import pandas as pd\n",
    "import sqlite3\n",
    "\n",
    "\n",
    "import numpy as np\n",
    "from numpy import std, mean, sqrt\n",
    "import scipy.stats as stats\n",
    "from statsmodels.stats.power import tt_ind_solve_power\n",
    "import statsmodels.api as sm\n",
    "from statsmodels.formula.api import ols\n",
    "\n",
    "import matplotlib.pyplot as plt\n",
    "%matplotlib inline\n",
    "import seaborn as sns\n"
   ]
  },
  {
   "cell_type": "code",
   "execution_count": 2,
   "metadata": {},
   "outputs": [],
   "source": [
    "# connect to database\n",
    "conn = sqlite3.Connection('Northwind_large.sqlite')\n",
    "cur = conn.cursor()"
   ]
  },
  {
   "cell_type": "code",
   "execution_count": 3,
   "metadata": {},
   "outputs": [
    {
     "data": {
      "text/plain": [
       "[('Employee',),\n",
       " ('Category',),\n",
       " ('Customer',),\n",
       " ('Shipper',),\n",
       " ('Supplier',),\n",
       " ('Order',),\n",
       " ('Product',),\n",
       " ('OrderDetail',),\n",
       " ('CustomerCustomerDemo',),\n",
       " ('CustomerDemographic',),\n",
       " ('Region',),\n",
       " ('Territory',),\n",
       " ('EmployeeTerritory',),\n",
       " ('sqlite_sequence',)]"
      ]
     },
     "execution_count": 3,
     "metadata": {},
     "output_type": "execute_result"
    }
   ],
   "source": [
    "#what tables are available in the database\n",
    "cur.execute(\"\"\"SELECT name \n",
    "               FROM sqlite_master\n",
    "               WHERE type = 'table';\"\"\")\n",
    "cur.fetchall()"
   ]
  },
  {
   "cell_type": "code",
   "execution_count": 4,
   "metadata": {},
   "outputs": [
    {
     "data": {
      "text/html": [
       "<div>\n",
       "<style scoped>\n",
       "    .dataframe tbody tr th:only-of-type {\n",
       "        vertical-align: middle;\n",
       "    }\n",
       "\n",
       "    .dataframe tbody tr th {\n",
       "        vertical-align: top;\n",
       "    }\n",
       "\n",
       "    .dataframe thead th {\n",
       "        text-align: right;\n",
       "    }\n",
       "</style>\n",
       "<table border=\"1\" class=\"dataframe\">\n",
       "  <thead>\n",
       "    <tr style=\"text-align: right;\">\n",
       "      <th></th>\n",
       "      <th>CustomerID</th>\n",
       "      <th>CustomerName</th>\n",
       "      <th>City</th>\n",
       "      <th>Country</th>\n",
       "      <th>Region</th>\n",
       "    </tr>\n",
       "  </thead>\n",
       "  <tbody>\n",
       "    <tr>\n",
       "      <th>52</th>\n",
       "      <td>NORTS</td>\n",
       "      <td>Simon Crowther</td>\n",
       "      <td>London</td>\n",
       "      <td>UK</td>\n",
       "      <td>British Isles</td>\n",
       "    </tr>\n",
       "    <tr>\n",
       "      <th>11</th>\n",
       "      <td>CACTU</td>\n",
       "      <td>Patricio Simpson</td>\n",
       "      <td>Buenos Aires</td>\n",
       "      <td>Argentina</td>\n",
       "      <td>South America</td>\n",
       "    </tr>\n",
       "    <tr>\n",
       "      <th>34</th>\n",
       "      <td>HILAA</td>\n",
       "      <td>Carlos Hernández</td>\n",
       "      <td>San Cristóbal</td>\n",
       "      <td>Venezuela</td>\n",
       "      <td>South America</td>\n",
       "    </tr>\n",
       "    <tr>\n",
       "      <th>46</th>\n",
       "      <td>LINOD</td>\n",
       "      <td>Felipe Izquierdo</td>\n",
       "      <td>I. de Margarita</td>\n",
       "      <td>Venezuela</td>\n",
       "      <td>South America</td>\n",
       "    </tr>\n",
       "    <tr>\n",
       "      <th>73</th>\n",
       "      <td>SPECD</td>\n",
       "      <td>Dominique Perrier</td>\n",
       "      <td>Paris</td>\n",
       "      <td>France</td>\n",
       "      <td>Western Europe</td>\n",
       "    </tr>\n",
       "    <tr>\n",
       "      <th>2</th>\n",
       "      <td>ANTON</td>\n",
       "      <td>Antonio Moreno</td>\n",
       "      <td>México D.F.</td>\n",
       "      <td>Mexico</td>\n",
       "      <td>Central America</td>\n",
       "    </tr>\n",
       "    <tr>\n",
       "      <th>65</th>\n",
       "      <td>REGGC</td>\n",
       "      <td>Maurizio Moroni</td>\n",
       "      <td>Reggio Emilia</td>\n",
       "      <td>Italy</td>\n",
       "      <td>Southern Europe</td>\n",
       "    </tr>\n",
       "    <tr>\n",
       "      <th>69</th>\n",
       "      <td>SANTG</td>\n",
       "      <td>Jonas Bergulfsen</td>\n",
       "      <td>Stavern</td>\n",
       "      <td>Norway</td>\n",
       "      <td>Scandinavia</td>\n",
       "    </tr>\n",
       "    <tr>\n",
       "      <th>24</th>\n",
       "      <td>FRANK</td>\n",
       "      <td>Peter Franken</td>\n",
       "      <td>München</td>\n",
       "      <td>Germany</td>\n",
       "      <td>Western Europe</td>\n",
       "    </tr>\n",
       "    <tr>\n",
       "      <th>55</th>\n",
       "      <td>OTTIK</td>\n",
       "      <td>Henriette Pfalzheim</td>\n",
       "      <td>Köln</td>\n",
       "      <td>Germany</td>\n",
       "      <td>Western Europe</td>\n",
       "    </tr>\n",
       "  </tbody>\n",
       "</table>\n",
       "</div>"
      ],
      "text/plain": [
       "   CustomerID         CustomerName             City    Country  \\\n",
       "52      NORTS       Simon Crowther           London         UK   \n",
       "11      CACTU     Patricio Simpson     Buenos Aires  Argentina   \n",
       "34      HILAA     Carlos Hernández    San Cristóbal  Venezuela   \n",
       "46      LINOD     Felipe Izquierdo  I. de Margarita  Venezuela   \n",
       "73      SPECD    Dominique Perrier            Paris     France   \n",
       "2       ANTON       Antonio Moreno      México D.F.     Mexico   \n",
       "65      REGGC      Maurizio Moroni    Reggio Emilia      Italy   \n",
       "69      SANTG     Jonas Bergulfsen          Stavern     Norway   \n",
       "24      FRANK        Peter Franken          München    Germany   \n",
       "55      OTTIK  Henriette Pfalzheim             Köln    Germany   \n",
       "\n",
       "             Region  \n",
       "52    British Isles  \n",
       "11    South America  \n",
       "34    South America  \n",
       "46    South America  \n",
       "73   Western Europe  \n",
       "2   Central America  \n",
       "65  Southern Europe  \n",
       "69      Scandinavia  \n",
       "24   Western Europe  \n",
       "55   Western Europe  "
      ]
     },
     "execution_count": 4,
     "metadata": {},
     "output_type": "execute_result"
    }
   ],
   "source": [
    "# OrderDetail data\n",
    "\n",
    "cur.execute(\"\"\"SELECT Id AS CustomerID, ContactName AS CustomerName, City, Country, Region\n",
    "               FROM Customer\n",
    "               \"\"\")\n",
    "df_Customer= pd.DataFrame(cur.fetchall())\n",
    "df_Customer.columns = [x[0] for x in cur.description]\n",
    "df_Customer.sample(10)"
   ]
  },
  {
   "cell_type": "markdown",
   "metadata": {},
   "source": [
    "### Manage n/a data types<a id='Manage n/a data types'></a>"
   ]
  },
  {
   "cell_type": "code",
   "execution_count": 46,
   "metadata": {
    "scrolled": true
   },
   "outputs": [
    {
     "name": "stdout",
     "output_type": "stream",
     "text": [
      "   CustomerID                     Name         City  Country           Region\n",
      "0       ALFKI             Maria Anders       Berlin  Germany   Western Europe\n",
      "1       ANATR             Ana Trujillo  México D.F.   Mexico  Central America\n",
      "2       ANTON           Antonio Moreno  México D.F.   Mexico  Central America\n",
      "3       AROUT             Thomas Hardy       London       UK    British Isles\n",
      "4       BERGS       Christina Berglund        Luleå   Sweden  Northern Europe\n",
      "..        ...                      ...          ...      ...              ...\n",
      "86      WARTH         Pirkko Koskitalo         Oulu  Finland      Scandinavia\n",
      "87      WELLI            Paula Parente      Resende   Brazil    South America\n",
      "88      WHITC           Karl Jablonski      Seattle      USA    North America\n",
      "89      WILMK          Matti Karttunen     Helsinki  Finland      Scandinavia\n",
      "90      WOLZA  Zbyszek Piestrzeniewicz     Warszawa   Poland   Eastern Europe\n",
      "\n",
      "[91 rows x 5 columns]\n"
     ]
    }
   ],
   "source": [
    "print(df_Customer)"
   ]
  },
  {
   "cell_type": "markdown",
   "metadata": {},
   "source": [
    "### Remove duplicate data<a id='Remove duplicate data'></a>"
   ]
  },
  {
   "cell_type": "code",
   "execution_count": 48,
   "metadata": {},
   "outputs": [
    {
     "name": "stdout",
     "output_type": "stream",
     "text": [
      "duplicated rows: 0\n"
     ]
    }
   ],
   "source": [
    "# identification of duplicate data\n",
    "print('duplicated rows: ' + str(df_Customer.duplicated().sum()))"
   ]
  },
  {
   "cell_type": "code",
   "execution_count": 50,
   "metadata": {},
   "outputs": [],
   "source": [
    "df_Customer.columns = df_Customer.columns.str.strip()"
   ]
  },
  {
   "cell_type": "markdown",
   "metadata": {},
   "source": [
    "### Manage data types<a id='Manage data types'></a>"
   ]
  },
  {
   "cell_type": "code",
   "execution_count": 51,
   "metadata": {},
   "outputs": [
    {
     "name": "stdout",
     "output_type": "stream",
     "text": [
      "<class 'pandas.core.frame.DataFrame'>\n",
      "RangeIndex: 91 entries, 0 to 90\n",
      "Data columns (total 5 columns):\n",
      " #   Column      Non-Null Count  Dtype \n",
      "---  ------      --------------  ----- \n",
      " 0   CustomerID  91 non-null     object\n",
      " 1   Name        91 non-null     object\n",
      " 2   City        91 non-null     object\n",
      " 3   Country     91 non-null     object\n",
      " 4   Region      91 non-null     object\n",
      "dtypes: object(5)\n",
      "memory usage: 3.7+ KB\n"
     ]
    }
   ],
   "source": [
    "# data type identification\n",
    "df_Customer.info()"
   ]
  },
  {
   "cell_type": "markdown",
   "metadata": {},
   "source": [
    "### Remove outliers<a id='Remove outliers'></a>"
   ]
  },
  {
   "cell_type": "code",
   "execution_count": 52,
   "metadata": {},
   "outputs": [
    {
     "data": {
      "text/html": [
       "<div>\n",
       "<style scoped>\n",
       "    .dataframe tbody tr th:only-of-type {\n",
       "        vertical-align: middle;\n",
       "    }\n",
       "\n",
       "    .dataframe tbody tr th {\n",
       "        vertical-align: top;\n",
       "    }\n",
       "\n",
       "    .dataframe thead th {\n",
       "        text-align: right;\n",
       "    }\n",
       "</style>\n",
       "<table border=\"1\" class=\"dataframe\">\n",
       "  <thead>\n",
       "    <tr style=\"text-align: right;\">\n",
       "      <th></th>\n",
       "      <th>CustomerID</th>\n",
       "      <th>Name</th>\n",
       "      <th>City</th>\n",
       "      <th>Country</th>\n",
       "      <th>Region</th>\n",
       "    </tr>\n",
       "  </thead>\n",
       "  <tbody>\n",
       "    <tr>\n",
       "      <th>count</th>\n",
       "      <td>91</td>\n",
       "      <td>91</td>\n",
       "      <td>91</td>\n",
       "      <td>91</td>\n",
       "      <td>91</td>\n",
       "    </tr>\n",
       "    <tr>\n",
       "      <th>unique</th>\n",
       "      <td>91</td>\n",
       "      <td>91</td>\n",
       "      <td>69</td>\n",
       "      <td>21</td>\n",
       "      <td>9</td>\n",
       "    </tr>\n",
       "    <tr>\n",
       "      <th>top</th>\n",
       "      <td>ALFKI</td>\n",
       "      <td>Maria Anders</td>\n",
       "      <td>London</td>\n",
       "      <td>USA</td>\n",
       "      <td>Western Europe</td>\n",
       "    </tr>\n",
       "    <tr>\n",
       "      <th>freq</th>\n",
       "      <td>1</td>\n",
       "      <td>1</td>\n",
       "      <td>6</td>\n",
       "      <td>13</td>\n",
       "      <td>28</td>\n",
       "    </tr>\n",
       "  </tbody>\n",
       "</table>\n",
       "</div>"
      ],
      "text/plain": [
       "       CustomerID          Name    City Country          Region\n",
       "count          91            91      91      91              91\n",
       "unique         91            91      69      21               9\n",
       "top         ALFKI  Maria Anders  London     USA  Western Europe\n",
       "freq            1             1       6      13              28"
      ]
     },
     "execution_count": 52,
     "metadata": {},
     "output_type": "execute_result"
    }
   ],
   "source": [
    "df_Customer.describe()"
   ]
  },
  {
   "cell_type": "code",
   "execution_count": 53,
   "metadata": {},
   "outputs": [],
   "source": [
    "df_Customer.to_csv(r'Customer.csv')"
   ]
  },
  {
   "cell_type": "code",
   "execution_count": null,
   "metadata": {},
   "outputs": [],
   "source": []
  }
 ],
 "metadata": {
  "kernelspec": {
   "display_name": "Python 3 (ipykernel)",
   "language": "python",
   "name": "python3"
  },
  "language_info": {
   "codemirror_mode": {
    "name": "ipython",
    "version": 3
   },
   "file_extension": ".py",
   "mimetype": "text/x-python",
   "name": "python",
   "nbconvert_exporter": "python",
   "pygments_lexer": "ipython3",
   "version": "3.9.7"
  },
  "toc": {
   "base_numbering": 1,
   "nav_menu": {},
   "number_sections": true,
   "sideBar": true,
   "skip_h1_title": false,
   "title_cell": "Table of Contents",
   "title_sidebar": "Contents",
   "toc_cell": false,
   "toc_position": {},
   "toc_section_display": true,
   "toc_window_display": false
  }
 },
 "nbformat": 4,
 "nbformat_minor": 2
}
