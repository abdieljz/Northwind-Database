{
 "cells": [
  {
   "cell_type": "code",
   "execution_count": 6,
   "metadata": {},
   "outputs": [],
   "source": [
    "# import libraries\n",
    "import pandas as pd\n",
    "import sqlite3\n",
    "\n",
    "import numpy as np\n",
    "from numpy import std, mean, sqrt\n",
    "import scipy.stats as stats\n",
    "from scipy.stats import wilcoxon\n",
    "from statsmodels.stats.power import tt_ind_solve_power\n",
    "import statsmodels.api as sm\n",
    "from statsmodels.formula.api import ols\n",
    "\n",
    "import matplotlib.pyplot as plt\n",
    "%matplotlib inline\n",
    "# plt.style.use('Solarize_Light2')\n",
    "import seaborn as sns\n",
    "\n",
    "idx = pd.IndexSlice"
   ]
  },
  {
   "cell_type": "code",
   "execution_count": 7,
   "metadata": {},
   "outputs": [],
   "source": [
    "# import data\n",
    "conn = sqlite3.Connection('Northwind_large.sqlite')\n",
    "cur = conn.cursor()"
   ]
  },
  {
   "cell_type": "code",
   "execution_count": 8,
   "metadata": {},
   "outputs": [
    {
     "data": {
      "text/html": [
       "<div>\n",
       "<style scoped>\n",
       "    .dataframe tbody tr th:only-of-type {\n",
       "        vertical-align: middle;\n",
       "    }\n",
       "\n",
       "    .dataframe tbody tr th {\n",
       "        vertical-align: top;\n",
       "    }\n",
       "\n",
       "    .dataframe thead th {\n",
       "        text-align: right;\n",
       "    }\n",
       "</style>\n",
       "<table border=\"1\" class=\"dataframe\">\n",
       "  <thead>\n",
       "    <tr style=\"text-align: right;\">\n",
       "      <th></th>\n",
       "      <th>Id</th>\n",
       "      <th>CustomerId</th>\n",
       "      <th>EmployeeId</th>\n",
       "      <th>OrderDate</th>\n",
       "      <th>RequiredDate</th>\n",
       "      <th>ShippedDate</th>\n",
       "      <th>ShipVia</th>\n",
       "      <th>Freight</th>\n",
       "      <th>ShipName</th>\n",
       "      <th>ShipAddress</th>\n",
       "      <th>ShipCity</th>\n",
       "      <th>ShipRegion</th>\n",
       "      <th>ShipPostalCode</th>\n",
       "      <th>ShipCountry</th>\n",
       "    </tr>\n",
       "  </thead>\n",
       "  <tbody>\n",
       "    <tr>\n",
       "      <th>9783</th>\n",
       "      <td>20031</td>\n",
       "      <td>RICAR</td>\n",
       "      <td>3</td>\n",
       "      <td>2015-07-24 10:26:42</td>\n",
       "      <td>2015-08-08 20:54:41</td>\n",
       "      <td>2015-08-03 23:29:37</td>\n",
       "      <td>1</td>\n",
       "      <td>180.0</td>\n",
       "      <td>Tortuga Restaurante</td>\n",
       "      <td>Avda. Azteca 123</td>\n",
       "      <td>México D.F.</td>\n",
       "      <td>Central America</td>\n",
       "      <td>05033</td>\n",
       "      <td>Mexico</td>\n",
       "    </tr>\n",
       "    <tr>\n",
       "      <th>10852</th>\n",
       "      <td>21100</td>\n",
       "      <td>ERNSH</td>\n",
       "      <td>8</td>\n",
       "      <td>2014-10-04 12:14:51</td>\n",
       "      <td>2014-10-17 05:11:43</td>\n",
       "      <td>2014-10-06 20:00:49</td>\n",
       "      <td>2</td>\n",
       "      <td>133.5</td>\n",
       "      <td>Piccolo und mehr</td>\n",
       "      <td>Geislweg 14</td>\n",
       "      <td>Salzburg</td>\n",
       "      <td>Western Europe</td>\n",
       "      <td>5020</td>\n",
       "      <td>Austria</td>\n",
       "    </tr>\n",
       "    <tr>\n",
       "      <th>358</th>\n",
       "      <td>10606</td>\n",
       "      <td>TRADH</td>\n",
       "      <td>4</td>\n",
       "      <td>2013-07-22</td>\n",
       "      <td>2013-08-19</td>\n",
       "      <td>2013-07-31</td>\n",
       "      <td>3</td>\n",
       "      <td>22.5</td>\n",
       "      <td>Tradiçao Hipermercados</td>\n",
       "      <td>Av. Inês de Castro, 414</td>\n",
       "      <td>Sao Paulo</td>\n",
       "      <td>South America</td>\n",
       "      <td>05634-030</td>\n",
       "      <td>Brazil</td>\n",
       "    </tr>\n",
       "  </tbody>\n",
       "</table>\n",
       "</div>"
      ],
      "text/plain": [
       "          Id CustomerId  EmployeeId            OrderDate         RequiredDate  \\\n",
       "9783   20031      RICAR           3  2015-07-24 10:26:42  2015-08-08 20:54:41   \n",
       "10852  21100      ERNSH           8  2014-10-04 12:14:51  2014-10-17 05:11:43   \n",
       "358    10606      TRADH           4           2013-07-22           2013-08-19   \n",
       "\n",
       "               ShippedDate  ShipVia  Freight                ShipName  \\\n",
       "9783   2015-08-03 23:29:37        1    180.0     Tortuga Restaurante   \n",
       "10852  2014-10-06 20:00:49        2    133.5        Piccolo und mehr   \n",
       "358             2013-07-31        3     22.5  Tradiçao Hipermercados   \n",
       "\n",
       "                   ShipAddress     ShipCity       ShipRegion ShipPostalCode  \\\n",
       "9783          Avda. Azteca 123  México D.F.  Central America          05033   \n",
       "10852              Geislweg 14     Salzburg   Western Europe           5020   \n",
       "358    Av. Inês de Castro, 414    Sao Paulo    South America      05634-030   \n",
       "\n",
       "      ShipCountry  \n",
       "9783       Mexico  \n",
       "10852     Austria  \n",
       "358        Brazil  "
      ]
     },
     "execution_count": 8,
     "metadata": {},
     "output_type": "execute_result"
    }
   ],
   "source": [
    "# Order data\n",
    "cur.execute(\"\"\"SELECT *\n",
    "               FROM 'Order';\n",
    "               \"\"\")\n",
    "df_order = pd.DataFrame(cur.fetchall())\n",
    "df_order.columns = [x[0] for x in cur.description]\n",
    "df_order.sample(3)"
   ]
  },
  {
   "cell_type": "code",
   "execution_count": 10,
   "metadata": {},
   "outputs": [
    {
     "data": {
      "text/html": [
       "<div>\n",
       "<style scoped>\n",
       "    .dataframe tbody tr th:only-of-type {\n",
       "        vertical-align: middle;\n",
       "    }\n",
       "\n",
       "    .dataframe tbody tr th {\n",
       "        vertical-align: top;\n",
       "    }\n",
       "\n",
       "    .dataframe thead th {\n",
       "        text-align: right;\n",
       "    }\n",
       "</style>\n",
       "<table border=\"1\" class=\"dataframe\">\n",
       "  <thead>\n",
       "    <tr style=\"text-align: right;\">\n",
       "      <th></th>\n",
       "      <th>OrderDate</th>\n",
       "    </tr>\n",
       "  </thead>\n",
       "  <tbody>\n",
       "    <tr>\n",
       "      <th>1080</th>\n",
       "      <td>2012-10-08 14:44:13</td>\n",
       "    </tr>\n",
       "    <tr>\n",
       "      <th>8811</th>\n",
       "      <td>2015-06-15 11:41:31</td>\n",
       "    </tr>\n",
       "    <tr>\n",
       "      <th>5213</th>\n",
       "      <td>2016-02-18 04:39:26</td>\n",
       "    </tr>\n",
       "  </tbody>\n",
       "</table>\n",
       "</div>"
      ],
      "text/plain": [
       "                OrderDate\n",
       "1080  2012-10-08 14:44:13\n",
       "8811  2015-06-15 11:41:31\n",
       "5213  2016-02-18 04:39:26"
      ]
     },
     "execution_count": 10,
     "metadata": {},
     "output_type": "execute_result"
    }
   ],
   "source": [
    "# OrderDetail data\n",
    "cur.execute(\"\"\"SELECT OrderDate\n",
    "               FROM 'Order';\n",
    "               \"\"\")\n",
    "df_orderD = pd.DataFrame(cur.fetchall())\n",
    "df_orderD.columns = [x[0] for x in cur.description]\n",
    "df_orderD.sample(3)"
   ]
  },
  {
   "cell_type": "code",
   "execution_count": 12,
   "metadata": {},
   "outputs": [
    {
     "name": "stdout",
     "output_type": "stream",
     "text": [
      "16818\n"
     ]
    }
   ],
   "source": [
    "# nans identification\n",
    "print(len(df_orderD))\n"
   ]
  },
  {
   "cell_type": "markdown",
   "metadata": {},
   "source": [
    "### Remove duplicate data"
   ]
  },
  {
   "cell_type": "code",
   "execution_count": 13,
   "metadata": {},
   "outputs": [
    {
     "name": "stdout",
     "output_type": "stream",
     "text": [
      "duplicated rows: 351\n"
     ]
    }
   ],
   "source": [
    "# identification of duplicate data\n",
    "print('duplicated rows: ' + str(df_orderD.duplicated().sum()))"
   ]
  },
  {
   "cell_type": "code",
   "execution_count": 16,
   "metadata": {},
   "outputs": [],
   "source": [
    "df_orderD.columns = df_orderD.columns.str.strip()"
   ]
  },
  {
   "cell_type": "code",
   "execution_count": 18,
   "metadata": {},
   "outputs": [
    {
     "data": {
      "text/html": [
       "<div>\n",
       "<style scoped>\n",
       "    .dataframe tbody tr th:only-of-type {\n",
       "        vertical-align: middle;\n",
       "    }\n",
       "\n",
       "    .dataframe tbody tr th {\n",
       "        vertical-align: top;\n",
       "    }\n",
       "\n",
       "    .dataframe thead th {\n",
       "        text-align: right;\n",
       "    }\n",
       "</style>\n",
       "<table border=\"1\" class=\"dataframe\">\n",
       "  <thead>\n",
       "    <tr style=\"text-align: right;\">\n",
       "      <th></th>\n",
       "      <th>OrderDate</th>\n",
       "    </tr>\n",
       "  </thead>\n",
       "  <tbody>\n",
       "    <tr>\n",
       "      <th>count</th>\n",
       "      <td>16818</td>\n",
       "    </tr>\n",
       "    <tr>\n",
       "      <th>unique</th>\n",
       "      <td>16467</td>\n",
       "    </tr>\n",
       "    <tr>\n",
       "      <th>top</th>\n",
       "      <td>2014-02-26</td>\n",
       "    </tr>\n",
       "    <tr>\n",
       "      <th>freq</th>\n",
       "      <td>6</td>\n",
       "    </tr>\n",
       "  </tbody>\n",
       "</table>\n",
       "</div>"
      ],
      "text/plain": [
       "         OrderDate\n",
       "count        16818\n",
       "unique       16467\n",
       "top     2014-02-26\n",
       "freq             6"
      ]
     },
     "execution_count": 18,
     "metadata": {},
     "output_type": "execute_result"
    }
   ],
   "source": [
    "df_orderD.describe()"
   ]
  },
  {
   "cell_type": "code",
   "execution_count": 20,
   "metadata": {},
   "outputs": [],
   "source": [
    "df_orderD.to_csv(r'Time.csv')"
   ]
  },
  {
   "cell_type": "code",
   "execution_count": null,
   "metadata": {},
   "outputs": [],
   "source": []
  }
 ],
 "metadata": {
  "kernelspec": {
   "display_name": "Python 3 (ipykernel)",
   "language": "python",
   "name": "python3"
  },
  "language_info": {
   "codemirror_mode": {
    "name": "ipython",
    "version": 3
   },
   "file_extension": ".py",
   "mimetype": "text/x-python",
   "name": "python",
   "nbconvert_exporter": "python",
   "pygments_lexer": "ipython3",
   "version": "3.9.7"
  },
  "toc": {
   "base_numbering": 1,
   "nav_menu": {},
   "number_sections": true,
   "sideBar": true,
   "skip_h1_title": false,
   "title_cell": "Table of Contents",
   "title_sidebar": "Contents",
   "toc_cell": false,
   "toc_position": {},
   "toc_section_display": true,
   "toc_window_display": false
  }
 },
 "nbformat": 4,
 "nbformat_minor": 2
}
