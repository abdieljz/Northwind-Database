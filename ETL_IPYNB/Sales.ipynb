{
 "cells": [
  {
   "cell_type": "code",
   "execution_count": 2,
   "metadata": {},
   "outputs": [],
   "source": [
    "# import libraries\n",
    "import pandas as pd\n",
    "import sqlite3\n",
    "\n",
    "import numpy as np\n",
    "from numpy import std, mean, sqrt\n",
    "import scipy.stats as stats\n",
    "from scipy.stats import wilcoxon\n",
    "from statsmodels.stats.power import tt_ind_solve_power\n",
    "import statsmodels.api as sm\n",
    "from statsmodels.formula.api import ols\n",
    "\n",
    "import matplotlib.pyplot as plt\n",
    "%matplotlib inline\n",
    "# plt.style.use('Solarize_Light2')\n",
    "import seaborn as sns\n",
    "\n",
    "idx = pd.IndexSlice"
   ]
  },
  {
   "cell_type": "code",
   "execution_count": 3,
   "metadata": {},
   "outputs": [],
   "source": [
    "# import data\n",
    "conn = sqlite3.Connection('Northwind_large.sqlite')\n",
    "cur = conn.cursor()"
   ]
  },
  {
   "cell_type": "code",
   "execution_count": 4,
   "metadata": {},
   "outputs": [
    {
     "data": {
      "text/plain": [
       "[('Employee',),\n",
       " ('Category',),\n",
       " ('Customer',),\n",
       " ('Shipper',),\n",
       " ('Supplier',),\n",
       " ('Order',),\n",
       " ('Product',),\n",
       " ('OrderDetail',),\n",
       " ('CustomerCustomerDemo',),\n",
       " ('CustomerDemographic',),\n",
       " ('Region',),\n",
       " ('Territory',),\n",
       " ('EmployeeTerritory',),\n",
       " ('sqlite_sequence',)]"
      ]
     },
     "execution_count": 4,
     "metadata": {},
     "output_type": "execute_result"
    }
   ],
   "source": [
    "#what tables are available in the database\n",
    "cur.execute(\"\"\"SELECT name \n",
    "               FROM sqlite_master\n",
    "               WHERE type = 'table';\"\"\")\n",
    "cur.fetchall()"
   ]
  },
  {
   "cell_type": "code",
   "execution_count": 6,
   "metadata": {},
   "outputs": [
    {
     "data": {
      "text/html": [
       "<div>\n",
       "<style scoped>\n",
       "    .dataframe tbody tr th:only-of-type {\n",
       "        vertical-align: middle;\n",
       "    }\n",
       "\n",
       "    .dataframe tbody tr th {\n",
       "        vertical-align: top;\n",
       "    }\n",
       "\n",
       "    .dataframe thead th {\n",
       "        text-align: right;\n",
       "    }\n",
       "</style>\n",
       "<table border=\"1\" class=\"dataframe\">\n",
       "  <thead>\n",
       "    <tr style=\"text-align: right;\">\n",
       "      <th></th>\n",
       "      <th>Id</th>\n",
       "      <th>CustomerId</th>\n",
       "      <th>EmployeeId</th>\n",
       "      <th>OrderDate</th>\n",
       "      <th>RequiredDate</th>\n",
       "      <th>ShippedDate</th>\n",
       "      <th>ShipVia</th>\n",
       "      <th>Freight</th>\n",
       "      <th>ShipName</th>\n",
       "      <th>ShipAddress</th>\n",
       "      <th>ShipCity</th>\n",
       "      <th>ShipRegion</th>\n",
       "      <th>ShipPostalCode</th>\n",
       "      <th>ShipCountry</th>\n",
       "    </tr>\n",
       "  </thead>\n",
       "  <tbody>\n",
       "    <tr>\n",
       "      <th>9651</th>\n",
       "      <td>19899</td>\n",
       "      <td>VICTE</td>\n",
       "      <td>5</td>\n",
       "      <td>2013-02-18 23:39:35</td>\n",
       "      <td>2013-03-19 06:37:59</td>\n",
       "      <td>2013-03-03 23:25:29</td>\n",
       "      <td>1</td>\n",
       "      <td>336.25</td>\n",
       "      <td>Vins et alcools Chevalier</td>\n",
       "      <td>59 rue de l'Abbaye</td>\n",
       "      <td>Reims</td>\n",
       "      <td>Western Europe</td>\n",
       "      <td>51100</td>\n",
       "      <td>France</td>\n",
       "    </tr>\n",
       "    <tr>\n",
       "      <th>1388</th>\n",
       "      <td>11636</td>\n",
       "      <td>ERNSH</td>\n",
       "      <td>8</td>\n",
       "      <td>2013-04-30 22:21:19</td>\n",
       "      <td>2013-06-03 13:32:15</td>\n",
       "      <td>2013-05-21 19:13:03</td>\n",
       "      <td>2</td>\n",
       "      <td>459.25</td>\n",
       "      <td>Königlich Essen</td>\n",
       "      <td>Maubelstr. 90</td>\n",
       "      <td>Brandenburg</td>\n",
       "      <td>Western Europe</td>\n",
       "      <td>14776</td>\n",
       "      <td>Germany</td>\n",
       "    </tr>\n",
       "    <tr>\n",
       "      <th>10924</th>\n",
       "      <td>21172</td>\n",
       "      <td>BSBEV</td>\n",
       "      <td>4</td>\n",
       "      <td>2015-12-16 00:40:08</td>\n",
       "      <td>2015-12-25 23:24:26</td>\n",
       "      <td>2015-12-19 21:49:35</td>\n",
       "      <td>1</td>\n",
       "      <td>71.00</td>\n",
       "      <td>Königlich Essen</td>\n",
       "      <td>Maubelstr. 90</td>\n",
       "      <td>Brandenburg</td>\n",
       "      <td>Western Europe</td>\n",
       "      <td>14776</td>\n",
       "      <td>Germany</td>\n",
       "    </tr>\n",
       "  </tbody>\n",
       "</table>\n",
       "</div>"
      ],
      "text/plain": [
       "          Id CustomerId  EmployeeId            OrderDate         RequiredDate  \\\n",
       "9651   19899      VICTE           5  2013-02-18 23:39:35  2013-03-19 06:37:59   \n",
       "1388   11636      ERNSH           8  2013-04-30 22:21:19  2013-06-03 13:32:15   \n",
       "10924  21172      BSBEV           4  2015-12-16 00:40:08  2015-12-25 23:24:26   \n",
       "\n",
       "               ShippedDate  ShipVia  Freight                   ShipName  \\\n",
       "9651   2013-03-03 23:25:29        1   336.25  Vins et alcools Chevalier   \n",
       "1388   2013-05-21 19:13:03        2   459.25            Königlich Essen   \n",
       "10924  2015-12-19 21:49:35        1    71.00            Königlich Essen   \n",
       "\n",
       "              ShipAddress     ShipCity      ShipRegion ShipPostalCode  \\\n",
       "9651   59 rue de l'Abbaye        Reims  Western Europe          51100   \n",
       "1388        Maubelstr. 90  Brandenburg  Western Europe          14776   \n",
       "10924       Maubelstr. 90  Brandenburg  Western Europe          14776   \n",
       "\n",
       "      ShipCountry  \n",
       "9651       France  \n",
       "1388      Germany  \n",
       "10924     Germany  "
      ]
     },
     "execution_count": 6,
     "metadata": {},
     "output_type": "execute_result"
    }
   ],
   "source": [
    "# Order data\n",
    "cur.execute(\"\"\"SELECT *\n",
    "               FROM 'Order';\n",
    "               \"\"\")\n",
    "df_order = pd.DataFrame(cur.fetchall())\n",
    "df_order.columns = [x[0] for x in cur.description]\n",
    "df_order.sample(3)"
   ]
  },
  {
   "cell_type": "code",
   "execution_count": 9,
   "metadata": {},
   "outputs": [
    {
     "data": {
      "text/html": [
       "<div>\n",
       "<style scoped>\n",
       "    .dataframe tbody tr th:only-of-type {\n",
       "        vertical-align: middle;\n",
       "    }\n",
       "\n",
       "    .dataframe tbody tr th {\n",
       "        vertical-align: top;\n",
       "    }\n",
       "\n",
       "    .dataframe thead th {\n",
       "        text-align: right;\n",
       "    }\n",
       "</style>\n",
       "<table border=\"1\" class=\"dataframe\">\n",
       "  <thead>\n",
       "    <tr style=\"text-align: right;\">\n",
       "      <th></th>\n",
       "      <th>ProductId</th>\n",
       "      <th>EmployeeId</th>\n",
       "      <th>CustomerId</th>\n",
       "      <th>orderDate</th>\n",
       "      <th>orderID</th>\n",
       "      <th>Quantity</th>\n",
       "      <th>UnitPrice</th>\n",
       "      <th>total</th>\n",
       "    </tr>\n",
       "  </thead>\n",
       "  <tbody>\n",
       "    <tr>\n",
       "      <th>258505</th>\n",
       "      <td>12</td>\n",
       "      <td>9</td>\n",
       "      <td>CONSH</td>\n",
       "      <td>2012-10-17 13:31:37</td>\n",
       "      <td>17655</td>\n",
       "      <td>39</td>\n",
       "      <td>38.0</td>\n",
       "      <td>1482.0</td>\n",
       "    </tr>\n",
       "    <tr>\n",
       "      <th>528554</th>\n",
       "      <td>49</td>\n",
       "      <td>1</td>\n",
       "      <td>QUICK</td>\n",
       "      <td>2014-10-15 00:10:54</td>\n",
       "      <td>24653</td>\n",
       "      <td>42</td>\n",
       "      <td>20.0</td>\n",
       "      <td>840.0</td>\n",
       "    </tr>\n",
       "    <tr>\n",
       "      <th>195092</th>\n",
       "      <td>10</td>\n",
       "      <td>1</td>\n",
       "      <td>THEBI</td>\n",
       "      <td>2013-03-05 17:42:42</td>\n",
       "      <td>16044</td>\n",
       "      <td>5</td>\n",
       "      <td>31.0</td>\n",
       "      <td>155.0</td>\n",
       "    </tr>\n",
       "    <tr>\n",
       "      <th>408495</th>\n",
       "      <td>53</td>\n",
       "      <td>3</td>\n",
       "      <td>TORTU</td>\n",
       "      <td>2014-07-04 13:11:12</td>\n",
       "      <td>21500</td>\n",
       "      <td>14</td>\n",
       "      <td>32.8</td>\n",
       "      <td>459.2</td>\n",
       "    </tr>\n",
       "    <tr>\n",
       "      <th>84744</th>\n",
       "      <td>63</td>\n",
       "      <td>6</td>\n",
       "      <td>ERNSH</td>\n",
       "      <td>2015-09-14 17:26:50</td>\n",
       "      <td>13222</td>\n",
       "      <td>40</td>\n",
       "      <td>43.9</td>\n",
       "      <td>1756.0</td>\n",
       "    </tr>\n",
       "  </tbody>\n",
       "</table>\n",
       "</div>"
      ],
      "text/plain": [
       "        ProductId  EmployeeId CustomerId            orderDate  orderID  \\\n",
       "258505         12           9      CONSH  2012-10-17 13:31:37    17655   \n",
       "528554         49           1      QUICK  2014-10-15 00:10:54    24653   \n",
       "195092         10           1      THEBI  2013-03-05 17:42:42    16044   \n",
       "408495         53           3      TORTU  2014-07-04 13:11:12    21500   \n",
       "84744          63           6      ERNSH  2015-09-14 17:26:50    13222   \n",
       "\n",
       "        Quantity  UnitPrice   total  \n",
       "258505        39       38.0  1482.0  \n",
       "528554        42       20.0   840.0  \n",
       "195092         5       31.0   155.0  \n",
       "408495        14       32.8   459.2  \n",
       "84744         40       43.9  1756.0  "
      ]
     },
     "execution_count": 9,
     "metadata": {},
     "output_type": "execute_result"
    }
   ],
   "source": [
    "# Product data\n",
    "cur.execute(\"\"\"select od.ProductID, o.EmployeeID, o.CustomerID, o.OrderDate AS orderDate,\n",
    "                o.Id AS orderID, od.quantity AS Quantity, od.unitPrice,\n",
    "                od.quantity * od.unitPrice as total        \n",
    "              from 'Order' o, OrderDetail od\n",
    "              where o.ID = od.OrderId;\n",
    "               \"\"\")\n",
    "df_sales = pd.DataFrame(cur.fetchall())\n",
    "df_sales.columns = [x[0] for x in cur.description]\n",
    "df_sales.sample(5)"
   ]
  },
  {
   "cell_type": "markdown",
   "metadata": {},
   "source": [
    "### Manage n/a data types"
   ]
  },
  {
   "cell_type": "code",
   "execution_count": 12,
   "metadata": {},
   "outputs": [
    {
     "name": "stdout",
     "output_type": "stream",
     "text": [
      "621883\n"
     ]
    }
   ],
   "source": [
    "# nans identification\n",
    "print(len(df_sales))"
   ]
  },
  {
   "cell_type": "markdown",
   "metadata": {},
   "source": [
    "### Remove duplicate data"
   ]
  },
  {
   "cell_type": "code",
   "execution_count": 13,
   "metadata": {},
   "outputs": [
    {
     "name": "stdout",
     "output_type": "stream",
     "text": [
      "duplicated rows: 0\n"
     ]
    }
   ],
   "source": [
    "# identification of duplicate data\n",
    "print('duplicated rows: ' + str(df_sales.duplicated().sum()))"
   ]
  },
  {
   "cell_type": "code",
   "execution_count": 14,
   "metadata": {},
   "outputs": [],
   "source": [
    "#vacio\n",
    "\n",
    "df_sales.columns = df_sales.columns.str.strip()"
   ]
  },
  {
   "cell_type": "markdown",
   "metadata": {},
   "source": [
    "### Manage data types\n",
    "\n",
    "First, let's see what the data types for this data set are."
   ]
  },
  {
   "cell_type": "code",
   "execution_count": 16,
   "metadata": {},
   "outputs": [],
   "source": [
    "df_sales['orderDate'] = pd.to_datetime(df_sales['orderDate'])"
   ]
  },
  {
   "cell_type": "code",
   "execution_count": 17,
   "metadata": {},
   "outputs": [
    {
     "name": "stdout",
     "output_type": "stream",
     "text": [
      "<class 'pandas.core.frame.DataFrame'>\n",
      "RangeIndex: 621883 entries, 0 to 621882\n",
      "Data columns (total 8 columns):\n",
      " #   Column      Non-Null Count   Dtype         \n",
      "---  ------      --------------   -----         \n",
      " 0   ProductId   621883 non-null  int64         \n",
      " 1   EmployeeId  621883 non-null  int64         \n",
      " 2   CustomerId  621883 non-null  object        \n",
      " 3   orderDate   621883 non-null  datetime64[ns]\n",
      " 4   orderID     621883 non-null  int64         \n",
      " 5   Quantity    621883 non-null  int64         \n",
      " 6   UnitPrice   621883 non-null  float64       \n",
      " 7   total       621883 non-null  float64       \n",
      "dtypes: datetime64[ns](1), float64(2), int64(4), object(1)\n",
      "memory usage: 38.0+ MB\n"
     ]
    }
   ],
   "source": [
    "# data type identification\n",
    "df_sales.info()"
   ]
  },
  {
   "cell_type": "markdown",
   "metadata": {},
   "source": [
    "### Remove outliers"
   ]
  },
  {
   "cell_type": "code",
   "execution_count": 24,
   "metadata": {},
   "outputs": [],
   "source": [
    "df_sales = df_sales[df_sales['ProductId']!=11]\n",
    "df_drop = df_sales[df_sales['ProductId']!=42]"
   ]
  },
  {
   "cell_type": "code",
   "execution_count": 27,
   "metadata": {},
   "outputs": [
    {
     "data": {
      "text/html": [
       "<div>\n",
       "<style scoped>\n",
       "    .dataframe tbody tr th:only-of-type {\n",
       "        vertical-align: middle;\n",
       "    }\n",
       "\n",
       "    .dataframe tbody tr th {\n",
       "        vertical-align: top;\n",
       "    }\n",
       "\n",
       "    .dataframe thead th {\n",
       "        text-align: right;\n",
       "    }\n",
       "</style>\n",
       "<table border=\"1\" class=\"dataframe\">\n",
       "  <thead>\n",
       "    <tr style=\"text-align: right;\">\n",
       "      <th></th>\n",
       "      <th>ProductId</th>\n",
       "      <th>EmployeeId</th>\n",
       "      <th>CustomerId</th>\n",
       "      <th>orderDate</th>\n",
       "      <th>orderID</th>\n",
       "      <th>Quantity</th>\n",
       "      <th>UnitPrice</th>\n",
       "      <th>total</th>\n",
       "    </tr>\n",
       "  </thead>\n",
       "  <tbody>\n",
       "    <tr>\n",
       "      <th>212742</th>\n",
       "      <td>17</td>\n",
       "      <td>4</td>\n",
       "      <td>FRANR</td>\n",
       "      <td>2014-03-21 02:04:32</td>\n",
       "      <td>16501</td>\n",
       "      <td>42</td>\n",
       "      <td>39.0</td>\n",
       "      <td>1638.0</td>\n",
       "    </tr>\n",
       "    <tr>\n",
       "      <th>55486</th>\n",
       "      <td>36</td>\n",
       "      <td>8</td>\n",
       "      <td>LAZYK</td>\n",
       "      <td>2014-01-01 10:52:56</td>\n",
       "      <td>12456</td>\n",
       "      <td>17</td>\n",
       "      <td>19.0</td>\n",
       "      <td>323.0</td>\n",
       "    </tr>\n",
       "    <tr>\n",
       "      <th>423868</th>\n",
       "      <td>32</td>\n",
       "      <td>5</td>\n",
       "      <td>KOENE</td>\n",
       "      <td>2014-12-21 17:37:25</td>\n",
       "      <td>21898</td>\n",
       "      <td>10</td>\n",
       "      <td>32.0</td>\n",
       "      <td>320.0</td>\n",
       "    </tr>\n",
       "    <tr>\n",
       "      <th>246788</th>\n",
       "      <td>18</td>\n",
       "      <td>6</td>\n",
       "      <td>THECR</td>\n",
       "      <td>2013-05-31 02:11:18</td>\n",
       "      <td>17362</td>\n",
       "      <td>23</td>\n",
       "      <td>62.5</td>\n",
       "      <td>1437.5</td>\n",
       "    </tr>\n",
       "    <tr>\n",
       "      <th>555032</th>\n",
       "      <td>62</td>\n",
       "      <td>9</td>\n",
       "      <td>LAZYK</td>\n",
       "      <td>2014-02-23 16:21:33</td>\n",
       "      <td>25337</td>\n",
       "      <td>22</td>\n",
       "      <td>49.3</td>\n",
       "      <td>1084.6</td>\n",
       "    </tr>\n",
       "  </tbody>\n",
       "</table>\n",
       "</div>"
      ],
      "text/plain": [
       "        ProductId  EmployeeId CustomerId           orderDate  orderID  \\\n",
       "212742         17           4      FRANR 2014-03-21 02:04:32    16501   \n",
       "55486          36           8      LAZYK 2014-01-01 10:52:56    12456   \n",
       "423868         32           5      KOENE 2014-12-21 17:37:25    21898   \n",
       "246788         18           6      THECR 2013-05-31 02:11:18    17362   \n",
       "555032         62           9      LAZYK 2014-02-23 16:21:33    25337   \n",
       "\n",
       "        Quantity  UnitPrice   total  \n",
       "212742        42       39.0  1638.0  \n",
       "55486         17       19.0   323.0  \n",
       "423868        10       32.0   320.0  \n",
       "246788        23       62.5  1437.5  \n",
       "555032        22       49.3  1084.6  "
      ]
     },
     "execution_count": 27,
     "metadata": {},
     "output_type": "execute_result"
    }
   ],
   "source": [
    "df_sales.sample(5)"
   ]
  },
  {
   "cell_type": "code",
   "execution_count": 32,
   "metadata": {},
   "outputs": [
    {
     "name": "stdout",
     "output_type": "stream",
     "text": [
      "length of cleaner dataset: 605758\n"
     ]
    },
    {
     "data": {
      "image/png": "[encoded data removed]",
      "text/plain": [
       "<Figure size 864x576 with 2 Axes>"
      ]
     },
     "metadata": {
      "needs_background": "light"
     },
     "output_type": "display_data"
    }
   ],
   "source": [
    "# outlier identification\n",
    "print('length of cleaner dataset: ' + str(len(df_drop)))\n",
    "\n",
    "fig01 = plt.figure(figsize=(12,8))\n",
    "fig01.suptitle('Outlier Exploration')\n",
    "\n",
    "ax = fig01.add_subplot(121)\n",
    "ax1 = df_drop.total.plot(kind='box')\n",
    "ax = fig01.add_subplot(122)\n",
    "ax2 = df_drop.total.plot(kind='box')"
   ]
  },
  {
   "cell_type": "code",
   "execution_count": 34,
   "metadata": {},
   "outputs": [
    {
     "data": {
      "image/png": "[encoded data removed]",
      "text/plain": [
       "<Figure size 720x720 with 9 Axes>"
      ]
     },
     "metadata": {
      "needs_background": "light"
     },
     "output_type": "display_data"
    }
   ],
   "source": [
    "# visualize data\n",
    "df_sales.hist(figsize=(10,10));"
   ]
  },
  {
   "cell_type": "code",
   "execution_count": 35,
   "metadata": {},
   "outputs": [],
   "source": [
    "df_sales.to_csv(r'Sales.csv')"
   ]
  },
  {
   "cell_type": "code",
   "execution_count": null,
   "metadata": {},
   "outputs": [],
   "source": []
  }
 ],
 "metadata": {
  "kernelspec": {
   "display_name": "Python 3 (ipykernel)",
   "language": "python",
   "name": "python3"
  },
  "language_info": {
   "codemirror_mode": {
    "name": "ipython",
    "version": 3
   },
   "file_extension": ".py",
   "mimetype": "text/x-python",
   "name": "python",
   "nbconvert_exporter": "python",
   "pygments_lexer": "ipython3",
   "version": "3.9.7"
  },
  "toc": {
   "base_numbering": 1,
   "nav_menu": {},
   "number_sections": true,
   "sideBar": true,
   "skip_h1_title": false,
   "title_cell": "Table of Contents",
   "title_sidebar": "Contents",
   "toc_cell": false,
   "toc_position": {},
   "toc_section_display": true,
   "toc_window_display": false
  }
 },
 "nbformat": 4,
 "nbformat_minor": 2
}
